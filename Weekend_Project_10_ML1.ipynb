{
 "cells": [
  {
   "cell_type": "markdown",
   "metadata": {
    "id": "view-in-github"
   },
   "source": [
    "<a href=\"https://colab.research.google.com/github/gumdropsteve/intro_to_machine_learning/blob/main/day_02/02_assignment_cost.ipynb\" target=\"_parent\"><img src=\"https://colab.research.google.com/assets/colab-badge.svg\" alt=\"Open In Colab\"/></a>"
   ]
  },
  {
   "cell_type": "markdown",
   "metadata": {
    "id": "lY8cTeL2QuDc"
   },
   "source": [
    "### Group 2 \n",
    "\n",
    "Team Members :\n",
    "\n",
    "- Razan Alsallumi\n",
    "- Waad Alsaleh\n",
    "- Reem Alamri\n",
    "- Marwah Alkhalaf\n",
    "\n",
    "\n"
   ]
  },
  {
   "cell_type": "code",
   "execution_count": 2,
   "metadata": {
    "id": "0DBsWMnDfWJN"
   },
   "outputs": [],
   "source": [
    "%%capture\n",
    "# STARTER CODE - RUN THIS CELL - DO NOT CHANGE\n",
    "!pip install category_encoders\n",
    "import seaborn as sns\n",
    "import pandas as pd\n",
    "import numpy as np\n",
    "import matplotlib.pyplot as plt\n",
    "import category_encoders as ce\n",
    "from sklearn.linear_model import LinearRegression, LogisticRegression\n",
    "from sklearn.preprocessing import StandardScaler\n",
    "from sklearn.model_selection import train_test_split\n",
    "from sklearn.pipeline import make_pipeline\n",
    "from sklearn.metrics import mean_squared_error, mean_absolute_error, accuracy_score, accuracy_score, recall_score, precision_score\n",
    "df_r = sns.load_dataset(\"tips\").dropna()\n",
    "df_c = sns.load_dataset(\"titanic\").dropna()\n",
    "model_r = LinearRegression()\n",
    "model_c = LogisticRegression()\n",
    "x_train_r, x_test_r, y_train_r, y_test_r = train_test_split(df_r.drop(\"total_bill\", axis=1), df_r[\"total_bill\"])\n",
    "x_train_c, x_test_c, y_train_c, y_test_c = train_test_split(df_c.drop([\"survived\", \"alive\", \"adult_male\"], axis=1), df_c[\"survived\"])\n",
    "pipe_r = make_pipeline(ce.OrdinalEncoder(), StandardScaler(), LinearRegression()).fit(x_train_r, y_train_r)\n",
    "pipe_c = make_pipeline(ce.OrdinalEncoder(), StandardScaler(), LogisticRegression()).fit(x_train_c, y_train_c)\n",
    "y_pred_r = pipe_r.predict(x_test_r)\n",
    "y_pred_c = pipe_c.predict(x_test_c)"
   ]
  },
  {
   "cell_type": "code",
   "execution_count": 2,
   "metadata": {
    "id": "WvsI5_5wQuDd"
   },
   "outputs": [],
   "source": [
    "pd.options.mode.chained_assignment = None "
   ]
  },
  {
   "cell_type": "markdown",
   "metadata": {
    "id": "JA6ub2bZemNP"
   },
   "source": [
    "# Weekend Project 10\n",
    "\n",
    "For this weekend project you will will create 2 heuristic models.\n",
    "- 1 for the Titanic data (Classification)\n",
    "  - Predict whether a person will survive or not survive.\n",
    "- 1 for the Tips dataset (Regression)\n",
    "  - Predict the total bill for each customer\n",
    "Logistic Regression (Titanic)\n",
    "You do not have to include all the columns in your feature set. \n",
    "\n",
    "## Steps to follow for training and testing your model:\n",
    "\n",
    "1. Split your dataset to train and test.\n",
    "\n",
    "    - This is a general split \"no need to identify the traget and the feature sets. <br /> <br />\n",
    "1. Use the training to build and tune \"adjust\" your heuristic model. \n",
    "    - This is the dataset the you with EDA to come up with a algorthim for your model.\n",
    "       <br /> <br /> **Note: The test set should be completely hidden to you at this point.** <br /> <br />\n",
    "    - The adjustment happens by chaning the condition inside your function \"if statements and otherwise\".\n",
    "    \n",
    "    - Once you are happy with the performance of you heuristic model, then you can test it. <br /> <br />\n",
    "\n",
    "1. Test your HM using the test split from your dataset. \n",
    "1. Report the baseline model for each HR.\n",
    "  - Classification (Majority Class)\n",
    "  - Regression (Mean of target)\n",
    "1. Compare your model with the Logistic Regression (Titanic) and Linear Regression (Tips)\n",
    "\n",
    "**Note:** You do not need to beat the accuracy of the models, but you are encouraged to try your best.\n",
    "\n",
    "**Note:** You do not have to create your own cost functions. Your will use the Scikit-learn cost functions to evaluate your model.\n",
    "\n",
    "---\n",
    "\n",
    "#### Resources\n",
    "- [Mean Squared Error](https://en.wikipedia.org/wiki/Mean_squared_error)\n",
    "- [Mean Absolute Error](https://en.wikipedia.org/wiki/Mean_absolute_error)\n",
    "- [Root Mean Squared Error](https://en.wikipedia.org/wiki/Root-mean-square_deviation)\n",
    "- [Residual Sum of Squares](https://en.wikipedia.org/wiki/Residual_sum_of_squares)\n",
    "- [Precision, Recall, Accuracy](https://en.wikipedia.org/wiki/Confusion_matrix)\n",
    "- [Scikit-Learn](https://scikit-learn.org/stable/index.html)"
   ]
  },
  {
   "cell_type": "markdown",
   "metadata": {
    "id": "N0gtvZ0xk50L"
   },
   "source": [
    "# Heuristic Model for Tips Dataset"
   ]
  },
  {
   "cell_type": "markdown",
   "metadata": {
    "id": "39_TltPpf60I"
   },
   "source": [
    "#### Regression Cost Functions\n",
    "\n",
    "- Use `y_test_r` as your true labels\n",
    "- Use `y_pred_r` as your predicted labels"
   ]
  },
  {
   "cell_type": "code",
   "execution_count": 3,
   "metadata": {
    "colab": {
     "base_uri": "https://localhost:8080/"
    },
    "id": "Eyp3WVY_tuBz",
    "outputId": "fc5bb690-2abb-455d-83e3-7901d6567285"
   },
   "outputs": [
    {
     "name": "stdout",
     "output_type": "stream",
     "text": [
      "MSE:  33.0419251152142\n",
      "MAE:  4.456528739396021\n",
      "RMSE:  5.748210601153563\n"
     ]
    }
   ],
   "source": [
    "# Cost Functions for the Linear Regression (Tips) \n",
    "print(\"MSE: \", mean_squared_error(y_test_r, y_pred_r))\n",
    "print(\"MAE: \",mean_absolute_error(y_test_r, y_pred_r))\n",
    "print(\"RMSE: \",mean_squared_error(y_test_r, y_pred_r, squared=False))"
   ]
  },
  {
   "cell_type": "code",
   "execution_count": 4,
   "metadata": {
    "colab": {
     "base_uri": "https://localhost:8080/",
     "height": 203
    },
    "id": "Un5KpjQ_QuDg",
    "outputId": "25c4efce-2c6d-46fd-e495-8a35411994d3"
   },
   "outputs": [
    {
     "data": {
      "text/html": [
       "<div>\n",
       "<style scoped>\n",
       "    .dataframe tbody tr th:only-of-type {\n",
       "        vertical-align: middle;\n",
       "    }\n",
       "\n",
       "    .dataframe tbody tr th {\n",
       "        vertical-align: top;\n",
       "    }\n",
       "\n",
       "    .dataframe thead th {\n",
       "        text-align: right;\n",
       "    }\n",
       "</style>\n",
       "<table border=\"1\" class=\"dataframe\">\n",
       "  <thead>\n",
       "    <tr style=\"text-align: right;\">\n",
       "      <th></th>\n",
       "      <th>total_bill</th>\n",
       "      <th>tip</th>\n",
       "      <th>sex</th>\n",
       "      <th>smoker</th>\n",
       "      <th>day</th>\n",
       "      <th>time</th>\n",
       "      <th>size</th>\n",
       "    </tr>\n",
       "  </thead>\n",
       "  <tbody>\n",
       "    <tr>\n",
       "      <th>0</th>\n",
       "      <td>16.99</td>\n",
       "      <td>1.01</td>\n",
       "      <td>Female</td>\n",
       "      <td>No</td>\n",
       "      <td>Sun</td>\n",
       "      <td>Dinner</td>\n",
       "      <td>2</td>\n",
       "    </tr>\n",
       "    <tr>\n",
       "      <th>1</th>\n",
       "      <td>10.34</td>\n",
       "      <td>1.66</td>\n",
       "      <td>Male</td>\n",
       "      <td>No</td>\n",
       "      <td>Sun</td>\n",
       "      <td>Dinner</td>\n",
       "      <td>3</td>\n",
       "    </tr>\n",
       "    <tr>\n",
       "      <th>2</th>\n",
       "      <td>21.01</td>\n",
       "      <td>3.50</td>\n",
       "      <td>Male</td>\n",
       "      <td>No</td>\n",
       "      <td>Sun</td>\n",
       "      <td>Dinner</td>\n",
       "      <td>3</td>\n",
       "    </tr>\n",
       "    <tr>\n",
       "      <th>3</th>\n",
       "      <td>23.68</td>\n",
       "      <td>3.31</td>\n",
       "      <td>Male</td>\n",
       "      <td>No</td>\n",
       "      <td>Sun</td>\n",
       "      <td>Dinner</td>\n",
       "      <td>2</td>\n",
       "    </tr>\n",
       "    <tr>\n",
       "      <th>4</th>\n",
       "      <td>24.59</td>\n",
       "      <td>3.61</td>\n",
       "      <td>Female</td>\n",
       "      <td>No</td>\n",
       "      <td>Sun</td>\n",
       "      <td>Dinner</td>\n",
       "      <td>4</td>\n",
       "    </tr>\n",
       "  </tbody>\n",
       "</table>\n",
       "</div>"
      ],
      "text/plain": [
       "   total_bill   tip     sex smoker  day    time  size\n",
       "0       16.99  1.01  Female     No  Sun  Dinner     2\n",
       "1       10.34  1.66    Male     No  Sun  Dinner     3\n",
       "2       21.01  3.50    Male     No  Sun  Dinner     3\n",
       "3       23.68  3.31    Male     No  Sun  Dinner     2\n",
       "4       24.59  3.61  Female     No  Sun  Dinner     4"
      ]
     },
     "execution_count": 4,
     "metadata": {},
     "output_type": "execute_result"
    }
   ],
   "source": [
    "df_r.head()"
   ]
  },
  {
   "cell_type": "code",
   "execution_count": 5,
   "metadata": {
    "colab": {
     "base_uri": "https://localhost:8080/"
    },
    "id": "Xde1JWDZQuDg",
    "outputId": "25fdfef7-e63c-4c4c-9594-d859884255df"
   },
   "outputs": [
    {
     "data": {
      "text/plain": [
       "19.785942622950824"
      ]
     },
     "execution_count": 5,
     "metadata": {},
     "output_type": "execute_result"
    }
   ],
   "source": [
    "df_r[\"total_bill\"].mean()"
   ]
  },
  {
   "cell_type": "markdown",
   "metadata": {
    "id": "V-mvNfPNQuDg"
   },
   "source": [
    "### 1- Split your dataset to train and test."
   ]
  },
  {
   "cell_type": "code",
   "execution_count": 3,
   "metadata": {
    "id": "6WAyR3BEQuDh"
   },
   "outputs": [],
   "source": [
    "\n",
    "\n",
    "train_tips, test_tips = train_test_split(\n",
    "    df_r, # data\n",
    "    train_size = 0.8, # size of the train data\n",
    "    test_size = 0.2, # size of test data\n",
    "    random_state = 42\n",
    "\n",
    ")"
   ]
  },
  {
   "cell_type": "markdown",
   "metadata": {
    "id": "HlnQIjxKQuDh"
   },
   "source": [
    "### 2- Use the training to build and tune \"adjust\" your heuristic model.\n",
    "\n",
    "## EDA"
   ]
  },
  {
   "cell_type": "code",
   "execution_count": 7,
   "metadata": {
    "id": "RVhbg7tLQuDh",
    "outputId": "0bfe1e10-d0bf-43b6-ec52-9b8f1c49ef7d"
   },
   "outputs": [
    {
     "data": {
      "text/plain": [
       "<seaborn.axisgrid.PairGrid at 0x7f8adb2f8790>"
      ]
     },
     "execution_count": 7,
     "metadata": {},
     "output_type": "execute_result"
    },
    {
     "data": {
      "image/png": "[encoded data removed]",
      "text/plain": [
       "<Figure size 540x540 with 12 Axes>"
      ]
     },
     "metadata": {
      "needs_background": "light"
     },
     "output_type": "display_data"
    }
   ],
   "source": [
    "sns.pairplot(train_tips)"
   ]
  },
  {
   "cell_type": "code",
   "execution_count": 8,
   "metadata": {
    "colab": {
     "base_uri": "https://localhost:8080/",
     "height": 514
    },
    "id": "d-s--hwZSG4V",
    "outputId": "3c34f08d-64c7-4c19-807e-48414d6fe9c4"
   },
   "outputs": [
    {
     "data": {
      "text/plain": [
       "<matplotlib.axes._subplots.AxesSubplot at 0x7f8adbbae6a0>"
      ]
     },
     "execution_count": 8,
     "metadata": {},
     "output_type": "execute_result"
    },
    {
     "data": {
      "image/png": "[encoded data removed]",
      "text/plain": [
       "<Figure size 1080x576 with 3 Axes>"
      ]
     },
     "metadata": {
      "needs_background": "light"
     },
     "output_type": "display_data"
    }
   ],
   "source": [
    "plt.figure(figsize=(15,8))\n",
    "plt.subplot(1, 3, 1) # 2x2 plot with plot position 1 (upper left)\n",
    "sns.barplot(x=\"sex\",\n",
    "            y=\"total_bill\",\n",
    "            hue=\"smoker\",\n",
    "            linewidth=2.5,\n",
    "            #palette=\"Blues\",\n",
    "            data=train_tips)\n",
    "\n",
    "\n",
    "\n",
    "#plot 2:\n",
    "\n",
    "plt.subplot(1, 3, 2) # 2x2 plot with plot position 2 (upper right)\n",
    "sns.barplot(x=\"sex\",\n",
    "            y=\"total_bill\",\n",
    "            hue=\"time\",\n",
    "            linewidth=2.5,\n",
    "            #palette=\"Blues\",\n",
    "            data=train_tips)\n",
    "\n",
    "plt.subplot(1, 3, 3) # 2x2 plot with plot position 2 (upper right)\n",
    "sns.barplot(x=\"sex\",\n",
    "            y=\"total_bill\",\n",
    "            hue=\"day\",\n",
    "            linewidth=2.5,\n",
    "            #palette=\"Blues\",\n",
    "            data=train_tips)"
   ]
  },
  {
   "cell_type": "code",
   "execution_count": 9,
   "metadata": {
    "colab": {
     "base_uri": "https://localhost:8080/"
    },
    "id": "J-FZ9U-EmIZ8",
    "outputId": "ed774333-7daa-4093-e040-c19fbc47b22f"
   },
   "outputs": [
    {
     "name": "stdout",
     "output_type": "stream",
     "text": [
      "Regression Mean Baseline: 20.217692307692314\n"
     ]
    }
   ],
   "source": [
    "# Report your baseline model here (Mean of target)\n",
    "\n",
    "\n",
    "print(f\"Regression Mean Baseline: {train_tips['total_bill'].mean()}\")\n",
    "\n",
    "\n",
    "# Predict mean baseline\n",
    "train_tips[\"baseline\"] = train_tips[\"total_bill\"].mean()\n",
    "\n"
   ]
  },
  {
   "cell_type": "code",
   "execution_count": 10,
   "metadata": {
    "colab": {
     "base_uri": "https://localhost:8080/",
     "height": 417
    },
    "id": "f7mNGmRlQuDi",
    "outputId": "0a022c7d-d3e2-4753-e13d-d7048056c459"
   },
   "outputs": [
    {
     "data": {
      "text/html": [
       "<div>\n",
       "<style scoped>\n",
       "    .dataframe tbody tr th:only-of-type {\n",
       "        vertical-align: middle;\n",
       "    }\n",
       "\n",
       "    .dataframe tbody tr th {\n",
       "        vertical-align: top;\n",
       "    }\n",
       "\n",
       "    .dataframe thead th {\n",
       "        text-align: right;\n",
       "    }\n",
       "</style>\n",
       "<table border=\"1\" class=\"dataframe\">\n",
       "  <thead>\n",
       "    <tr style=\"text-align: right;\">\n",
       "      <th></th>\n",
       "      <th>total_bill</th>\n",
       "      <th>tip</th>\n",
       "      <th>sex</th>\n",
       "      <th>smoker</th>\n",
       "      <th>day</th>\n",
       "      <th>time</th>\n",
       "      <th>size</th>\n",
       "      <th>baseline</th>\n",
       "    </tr>\n",
       "  </thead>\n",
       "  <tbody>\n",
       "    <tr>\n",
       "      <th>228</th>\n",
       "      <td>13.28</td>\n",
       "      <td>2.72</td>\n",
       "      <td>Male</td>\n",
       "      <td>No</td>\n",
       "      <td>Sat</td>\n",
       "      <td>Dinner</td>\n",
       "      <td>2</td>\n",
       "      <td>20.217692</td>\n",
       "    </tr>\n",
       "    <tr>\n",
       "      <th>208</th>\n",
       "      <td>24.27</td>\n",
       "      <td>2.03</td>\n",
       "      <td>Male</td>\n",
       "      <td>Yes</td>\n",
       "      <td>Sat</td>\n",
       "      <td>Dinner</td>\n",
       "      <td>2</td>\n",
       "      <td>20.217692</td>\n",
       "    </tr>\n",
       "    <tr>\n",
       "      <th>96</th>\n",
       "      <td>27.28</td>\n",
       "      <td>4.00</td>\n",
       "      <td>Male</td>\n",
       "      <td>Yes</td>\n",
       "      <td>Fri</td>\n",
       "      <td>Dinner</td>\n",
       "      <td>2</td>\n",
       "      <td>20.217692</td>\n",
       "    </tr>\n",
       "    <tr>\n",
       "      <th>167</th>\n",
       "      <td>31.71</td>\n",
       "      <td>4.50</td>\n",
       "      <td>Male</td>\n",
       "      <td>No</td>\n",
       "      <td>Sun</td>\n",
       "      <td>Dinner</td>\n",
       "      <td>4</td>\n",
       "      <td>20.217692</td>\n",
       "    </tr>\n",
       "    <tr>\n",
       "      <th>84</th>\n",
       "      <td>15.98</td>\n",
       "      <td>2.03</td>\n",
       "      <td>Male</td>\n",
       "      <td>No</td>\n",
       "      <td>Thur</td>\n",
       "      <td>Lunch</td>\n",
       "      <td>2</td>\n",
       "      <td>20.217692</td>\n",
       "    </tr>\n",
       "    <tr>\n",
       "      <th>...</th>\n",
       "      <td>...</td>\n",
       "      <td>...</td>\n",
       "      <td>...</td>\n",
       "      <td>...</td>\n",
       "      <td>...</td>\n",
       "      <td>...</td>\n",
       "      <td>...</td>\n",
       "      <td>...</td>\n",
       "    </tr>\n",
       "    <tr>\n",
       "      <th>106</th>\n",
       "      <td>20.49</td>\n",
       "      <td>4.06</td>\n",
       "      <td>Male</td>\n",
       "      <td>Yes</td>\n",
       "      <td>Sat</td>\n",
       "      <td>Dinner</td>\n",
       "      <td>2</td>\n",
       "      <td>20.217692</td>\n",
       "    </tr>\n",
       "    <tr>\n",
       "      <th>14</th>\n",
       "      <td>14.83</td>\n",
       "      <td>3.02</td>\n",
       "      <td>Female</td>\n",
       "      <td>No</td>\n",
       "      <td>Sun</td>\n",
       "      <td>Dinner</td>\n",
       "      <td>2</td>\n",
       "      <td>20.217692</td>\n",
       "    </tr>\n",
       "    <tr>\n",
       "      <th>92</th>\n",
       "      <td>5.75</td>\n",
       "      <td>1.00</td>\n",
       "      <td>Female</td>\n",
       "      <td>Yes</td>\n",
       "      <td>Fri</td>\n",
       "      <td>Dinner</td>\n",
       "      <td>2</td>\n",
       "      <td>20.217692</td>\n",
       "    </tr>\n",
       "    <tr>\n",
       "      <th>179</th>\n",
       "      <td>34.63</td>\n",
       "      <td>3.55</td>\n",
       "      <td>Male</td>\n",
       "      <td>Yes</td>\n",
       "      <td>Sun</td>\n",
       "      <td>Dinner</td>\n",
       "      <td>2</td>\n",
       "      <td>20.217692</td>\n",
       "    </tr>\n",
       "    <tr>\n",
       "      <th>102</th>\n",
       "      <td>44.30</td>\n",
       "      <td>2.50</td>\n",
       "      <td>Female</td>\n",
       "      <td>Yes</td>\n",
       "      <td>Sat</td>\n",
       "      <td>Dinner</td>\n",
       "      <td>3</td>\n",
       "      <td>20.217692</td>\n",
       "    </tr>\n",
       "  </tbody>\n",
       "</table>\n",
       "<p>195 rows × 8 columns</p>\n",
       "</div>"
      ],
      "text/plain": [
       "     total_bill   tip     sex smoker   day    time  size   baseline\n",
       "228       13.28  2.72    Male     No   Sat  Dinner     2  20.217692\n",
       "208       24.27  2.03    Male    Yes   Sat  Dinner     2  20.217692\n",
       "96        27.28  4.00    Male    Yes   Fri  Dinner     2  20.217692\n",
       "167       31.71  4.50    Male     No   Sun  Dinner     4  20.217692\n",
       "84        15.98  2.03    Male     No  Thur   Lunch     2  20.217692\n",
       "..          ...   ...     ...    ...   ...     ...   ...        ...\n",
       "106       20.49  4.06    Male    Yes   Sat  Dinner     2  20.217692\n",
       "14        14.83  3.02  Female     No   Sun  Dinner     2  20.217692\n",
       "92         5.75  1.00  Female    Yes   Fri  Dinner     2  20.217692\n",
       "179       34.63  3.55    Male    Yes   Sun  Dinner     2  20.217692\n",
       "102       44.30  2.50  Female    Yes   Sat  Dinner     3  20.217692\n",
       "\n",
       "[195 rows x 8 columns]"
      ]
     },
     "execution_count": 10,
     "metadata": {},
     "output_type": "execute_result"
    }
   ],
   "source": [
    "train_tips"
   ]
  },
  {
   "cell_type": "code",
   "execution_count": 11,
   "metadata": {
    "colab": {
     "base_uri": "https://localhost:8080/"
    },
    "id": "EWNYehwjQuDj",
    "outputId": "9ce73053-a888-4a15-fc31-7d7d5586f554"
   },
   "outputs": [
    {
     "data": {
      "text/plain": [
       "5.75"
      ]
     },
     "execution_count": 11,
     "metadata": {},
     "output_type": "execute_result"
    }
   ],
   "source": [
    "train_tips[\"total_bill\"].min()"
   ]
  },
  {
   "cell_type": "code",
   "execution_count": 12,
   "metadata": {
    "colab": {
     "base_uri": "https://localhost:8080/",
     "height": 295
    },
    "id": "rYdThCoLWfWq",
    "outputId": "38e59f50-b9c9-41ba-fdda-220ec0cc126f"
   },
   "outputs": [
    {
     "data": {
      "text/html": [
       "<div>\n",
       "<style scoped>\n",
       "    .dataframe tbody tr th:only-of-type {\n",
       "        vertical-align: middle;\n",
       "    }\n",
       "\n",
       "    .dataframe tbody tr th {\n",
       "        vertical-align: top;\n",
       "    }\n",
       "\n",
       "    .dataframe thead th {\n",
       "        text-align: right;\n",
       "    }\n",
       "</style>\n",
       "<table border=\"1\" class=\"dataframe\">\n",
       "  <thead>\n",
       "    <tr style=\"text-align: right;\">\n",
       "      <th></th>\n",
       "      <th>total_bill</th>\n",
       "      <th>tip</th>\n",
       "      <th>size</th>\n",
       "      <th>baseline</th>\n",
       "    </tr>\n",
       "  </thead>\n",
       "  <tbody>\n",
       "    <tr>\n",
       "      <th>count</th>\n",
       "      <td>195.000000</td>\n",
       "      <td>195.000000</td>\n",
       "      <td>195.000000</td>\n",
       "      <td>1.950000e+02</td>\n",
       "    </tr>\n",
       "    <tr>\n",
       "      <th>mean</th>\n",
       "      <td>20.217692</td>\n",
       "      <td>3.087795</td>\n",
       "      <td>2.574359</td>\n",
       "      <td>2.021769e+01</td>\n",
       "    </tr>\n",
       "    <tr>\n",
       "      <th>std</th>\n",
       "      <td>8.770505</td>\n",
       "      <td>1.429049</td>\n",
       "      <td>0.940695</td>\n",
       "      <td>5.698973e-14</td>\n",
       "    </tr>\n",
       "    <tr>\n",
       "      <th>min</th>\n",
       "      <td>5.750000</td>\n",
       "      <td>1.000000</td>\n",
       "      <td>1.000000</td>\n",
       "      <td>2.021769e+01</td>\n",
       "    </tr>\n",
       "    <tr>\n",
       "      <th>25%</th>\n",
       "      <td>13.660000</td>\n",
       "      <td>2.000000</td>\n",
       "      <td>2.000000</td>\n",
       "      <td>2.021769e+01</td>\n",
       "    </tr>\n",
       "    <tr>\n",
       "      <th>50%</th>\n",
       "      <td>17.920000</td>\n",
       "      <td>3.000000</td>\n",
       "      <td>2.000000</td>\n",
       "      <td>2.021769e+01</td>\n",
       "    </tr>\n",
       "    <tr>\n",
       "      <th>75%</th>\n",
       "      <td>24.855000</td>\n",
       "      <td>3.695000</td>\n",
       "      <td>3.000000</td>\n",
       "      <td>2.021769e+01</td>\n",
       "    </tr>\n",
       "    <tr>\n",
       "      <th>max</th>\n",
       "      <td>50.810000</td>\n",
       "      <td>10.000000</td>\n",
       "      <td>6.000000</td>\n",
       "      <td>2.021769e+01</td>\n",
       "    </tr>\n",
       "  </tbody>\n",
       "</table>\n",
       "</div>"
      ],
      "text/plain": [
       "       total_bill         tip        size      baseline\n",
       "count  195.000000  195.000000  195.000000  1.950000e+02\n",
       "mean    20.217692    3.087795    2.574359  2.021769e+01\n",
       "std      8.770505    1.429049    0.940695  5.698973e-14\n",
       "min      5.750000    1.000000    1.000000  2.021769e+01\n",
       "25%     13.660000    2.000000    2.000000  2.021769e+01\n",
       "50%     17.920000    3.000000    2.000000  2.021769e+01\n",
       "75%     24.855000    3.695000    3.000000  2.021769e+01\n",
       "max     50.810000   10.000000    6.000000  2.021769e+01"
      ]
     },
     "execution_count": 12,
     "metadata": {},
     "output_type": "execute_result"
    }
   ],
   "source": [
    "train_tips.describe()"
   ]
  },
  {
   "cell_type": "markdown",
   "metadata": {
    "id": "qpc1Ra9BQuDj"
   },
   "source": [
    "## Heuristic model"
   ]
  },
  {
   "cell_type": "code",
   "execution_count": 41,
   "metadata": {
    "colab": {
     "base_uri": "https://localhost:8080/"
    },
    "id": "CVsRKC0ckxcg",
    "outputId": "a59ab8b9-4772-44a4-d156-26af92c12cf4"
   },
   "outputs": [],
   "source": [
    "# Build your Heuristic model here\n",
    "\n",
    "\n",
    "def heuristic(data):\n",
    "\n",
    "   \n",
    "    preds = []\n",
    "    mean_bill=data[\"total_bill\"].mean()\n",
    "\n",
    "    max_bill=data[\"total_bill\"].max()\n",
    "    min_bill=data[\"total_bill\"].min()\n",
    "    rng = np.random.default_rng(42)\n",
    " \n",
    "\n",
    "    \n",
    "    for x in range(len(data)):\n",
    "        \n",
    "        #rng = np.random.default_rng(42)\n",
    "        f_trur= np.random.uniform(mean_bill, max_bill)\n",
    "        f_false= np.random.uniform(min_bill, mean_bill)\n",
    "    \n",
    "        if  (data.iloc[x][\"time\"] ==\"Dinner\")&(data.iloc[x][\"size\"] >=3):\n",
    "                preds.append(f_trur)\n",
    "                \n",
    "#         elif (data.iloc[x][\"day\"] == \"sat\") | (data.iloc[x][\"day\"] == \"sun\"):\n",
    "#                  preds.append(f_trur)\n",
    "\n",
    "        elif (data.iloc[x][\"tip\"] > 5):\n",
    "                 preds.append(f_trur)\n",
    "                \n",
    "        else:\n",
    "                preds.append(f_false)\n",
    "    return preds\n",
    "    \n",
    "train_tips[\"preds\"] = heuristic(train_tips)\n",
    "\n",
    "\n",
    "\n"
   ]
  },
  {
   "cell_type": "code",
   "execution_count": 42,
   "metadata": {
    "colab": {
     "base_uri": "https://localhost:8080/",
     "height": 417
    },
    "id": "3u0Y9oCXQuDk",
    "outputId": "8d08cbd7-658d-4a84-834f-7d2181f420e6"
   },
   "outputs": [
    {
     "data": {
      "text/html": [
       "<div>\n",
       "<style scoped>\n",
       "    .dataframe tbody tr th:only-of-type {\n",
       "        vertical-align: middle;\n",
       "    }\n",
       "\n",
       "    .dataframe tbody tr th {\n",
       "        vertical-align: top;\n",
       "    }\n",
       "\n",
       "    .dataframe thead th {\n",
       "        text-align: right;\n",
       "    }\n",
       "</style>\n",
       "<table border=\"1\" class=\"dataframe\">\n",
       "  <thead>\n",
       "    <tr style=\"text-align: right;\">\n",
       "      <th></th>\n",
       "      <th>total_bill</th>\n",
       "      <th>tip</th>\n",
       "      <th>sex</th>\n",
       "      <th>smoker</th>\n",
       "      <th>day</th>\n",
       "      <th>time</th>\n",
       "      <th>size</th>\n",
       "      <th>baseline</th>\n",
       "      <th>preds</th>\n",
       "    </tr>\n",
       "  </thead>\n",
       "  <tbody>\n",
       "    <tr>\n",
       "      <th>228</th>\n",
       "      <td>13.28</td>\n",
       "      <td>2.72</td>\n",
       "      <td>Male</td>\n",
       "      <td>No</td>\n",
       "      <td>Sat</td>\n",
       "      <td>Dinner</td>\n",
       "      <td>2</td>\n",
       "      <td>20.217692</td>\n",
       "      <td>20.031818</td>\n",
       "    </tr>\n",
       "    <tr>\n",
       "      <th>208</th>\n",
       "      <td>24.27</td>\n",
       "      <td>2.03</td>\n",
       "      <td>Male</td>\n",
       "      <td>Yes</td>\n",
       "      <td>Sat</td>\n",
       "      <td>Dinner</td>\n",
       "      <td>2</td>\n",
       "      <td>20.217692</td>\n",
       "      <td>13.301053</td>\n",
       "    </tr>\n",
       "    <tr>\n",
       "      <th>96</th>\n",
       "      <td>27.28</td>\n",
       "      <td>4.00</td>\n",
       "      <td>Male</td>\n",
       "      <td>Yes</td>\n",
       "      <td>Fri</td>\n",
       "      <td>Dinner</td>\n",
       "      <td>2</td>\n",
       "      <td>20.217692</td>\n",
       "      <td>7.698114</td>\n",
       "    </tr>\n",
       "    <tr>\n",
       "      <th>167</th>\n",
       "      <td>31.71</td>\n",
       "      <td>4.50</td>\n",
       "      <td>Male</td>\n",
       "      <td>No</td>\n",
       "      <td>Sun</td>\n",
       "      <td>Dinner</td>\n",
       "      <td>4</td>\n",
       "      <td>20.217692</td>\n",
       "      <td>28.837733</td>\n",
       "    </tr>\n",
       "    <tr>\n",
       "      <th>84</th>\n",
       "      <td>15.98</td>\n",
       "      <td>2.03</td>\n",
       "      <td>Male</td>\n",
       "      <td>No</td>\n",
       "      <td>Thur</td>\n",
       "      <td>Lunch</td>\n",
       "      <td>2</td>\n",
       "      <td>20.217692</td>\n",
       "      <td>11.284986</td>\n",
       "    </tr>\n",
       "    <tr>\n",
       "      <th>...</th>\n",
       "      <td>...</td>\n",
       "      <td>...</td>\n",
       "      <td>...</td>\n",
       "      <td>...</td>\n",
       "      <td>...</td>\n",
       "      <td>...</td>\n",
       "      <td>...</td>\n",
       "      <td>...</td>\n",
       "      <td>...</td>\n",
       "    </tr>\n",
       "    <tr>\n",
       "      <th>106</th>\n",
       "      <td>20.49</td>\n",
       "      <td>4.06</td>\n",
       "      <td>Male</td>\n",
       "      <td>Yes</td>\n",
       "      <td>Sat</td>\n",
       "      <td>Dinner</td>\n",
       "      <td>2</td>\n",
       "      <td>20.217692</td>\n",
       "      <td>17.507508</td>\n",
       "    </tr>\n",
       "    <tr>\n",
       "      <th>14</th>\n",
       "      <td>14.83</td>\n",
       "      <td>3.02</td>\n",
       "      <td>Female</td>\n",
       "      <td>No</td>\n",
       "      <td>Sun</td>\n",
       "      <td>Dinner</td>\n",
       "      <td>2</td>\n",
       "      <td>20.217692</td>\n",
       "      <td>11.888578</td>\n",
       "    </tr>\n",
       "    <tr>\n",
       "      <th>92</th>\n",
       "      <td>5.75</td>\n",
       "      <td>1.00</td>\n",
       "      <td>Female</td>\n",
       "      <td>Yes</td>\n",
       "      <td>Fri</td>\n",
       "      <td>Dinner</td>\n",
       "      <td>2</td>\n",
       "      <td>20.217692</td>\n",
       "      <td>8.101104</td>\n",
       "    </tr>\n",
       "    <tr>\n",
       "      <th>179</th>\n",
       "      <td>34.63</td>\n",
       "      <td>3.55</td>\n",
       "      <td>Male</td>\n",
       "      <td>Yes</td>\n",
       "      <td>Sun</td>\n",
       "      <td>Dinner</td>\n",
       "      <td>2</td>\n",
       "      <td>20.217692</td>\n",
       "      <td>14.351005</td>\n",
       "    </tr>\n",
       "    <tr>\n",
       "      <th>102</th>\n",
       "      <td>44.30</td>\n",
       "      <td>2.50</td>\n",
       "      <td>Female</td>\n",
       "      <td>Yes</td>\n",
       "      <td>Sat</td>\n",
       "      <td>Dinner</td>\n",
       "      <td>3</td>\n",
       "      <td>20.217692</td>\n",
       "      <td>21.992226</td>\n",
       "    </tr>\n",
       "  </tbody>\n",
       "</table>\n",
       "<p>195 rows × 9 columns</p>\n",
       "</div>"
      ],
      "text/plain": [
       "     total_bill   tip     sex smoker   day    time  size   baseline      preds\n",
       "228       13.28  2.72    Male     No   Sat  Dinner     2  20.217692  20.031818\n",
       "208       24.27  2.03    Male    Yes   Sat  Dinner     2  20.217692  13.301053\n",
       "96        27.28  4.00    Male    Yes   Fri  Dinner     2  20.217692   7.698114\n",
       "167       31.71  4.50    Male     No   Sun  Dinner     4  20.217692  28.837733\n",
       "84        15.98  2.03    Male     No  Thur   Lunch     2  20.217692  11.284986\n",
       "..          ...   ...     ...    ...   ...     ...   ...        ...        ...\n",
       "106       20.49  4.06    Male    Yes   Sat  Dinner     2  20.217692  17.507508\n",
       "14        14.83  3.02  Female     No   Sun  Dinner     2  20.217692  11.888578\n",
       "92         5.75  1.00  Female    Yes   Fri  Dinner     2  20.217692   8.101104\n",
       "179       34.63  3.55    Male    Yes   Sun  Dinner     2  20.217692  14.351005\n",
       "102       44.30  2.50  Female    Yes   Sat  Dinner     3  20.217692  21.992226\n",
       "\n",
       "[195 rows x 9 columns]"
      ]
     },
     "execution_count": 42,
     "metadata": {},
     "output_type": "execute_result"
    }
   ],
   "source": [
    "train_tips"
   ]
  },
  {
   "cell_type": "code",
   "execution_count": 45,
   "metadata": {
    "colab": {
     "base_uri": "https://localhost:8080/"
    },
    "id": "Ag3k7-MYQuDk",
    "outputId": "7673742a-29a0-481c-a953-06a17e9b68ed"
   },
   "outputs": [
    {
     "name": "stdout",
     "output_type": "stream",
     "text": [
      " The Mean Squared Error = 109.53697136232554\n",
      " The Mean Absolute Error = 8.176772167513791\n",
      " Root Mean Squared Error = 10.465991179163373\n"
     ]
    }
   ],
   "source": [
    "# Add your cost functions for your Heuristic Model here\n",
    "\n",
    "mse=mean_squared_error(train_tips[\"total_bill\"], train_tips[\"preds\"])\n",
    "print (f\" The Mean Squared Error = {mse}\")\n",
    "\n",
    "mae=mean_absolute_error(train_tips[\"total_bill\"], train_tips[\"preds\"])\n",
    "print (f\" The Mean Absolute Error = {mae}\")\n",
    "\n",
    "rms=mean_squared_error(train_tips[\"total_bill\"], train_tips[\"preds\"], squared=False)\n",
    "print (f\" Root Mean Squared Error = {rms}\")\n",
    "\n",
    "\n",
    "#  The Mean Squared Error = 109.53697136232554\n",
    "#  The Mean Absolute Error = 8.176772167513791\n",
    "#  Root Mean Squared Error = 10.465991179163373"
   ]
  },
  {
   "cell_type": "markdown",
   "metadata": {
    "id": "Sy7HZ5rtQuDl"
   },
   "source": [
    "### 3- Test your HM using the test split from your dataset."
   ]
  },
  {
   "cell_type": "code",
   "execution_count": null,
   "metadata": {
    "colab": {
     "base_uri": "https://localhost:8080/"
    },
    "id": "KHKO__bzQuDl",
    "outputId": "368213c6-bcc5-45a0-e94c-b74ea37499e1"
   },
   "outputs": [],
   "source": [
    "# Test HM \n",
    "test_tips[\"preds\"] = heuristic(test_tips)"
   ]
  },
  {
   "cell_type": "code",
   "execution_count": null,
   "metadata": {
    "colab": {
     "base_uri": "https://localhost:8080/",
     "height": 203
    },
    "id": "iP3mP0RIQuDl",
    "outputId": "c6fc8b52-7166-4021-fa74-6e40da24de71"
   },
   "outputs": [],
   "source": [
    "test_tips.head()"
   ]
  },
  {
   "cell_type": "code",
   "execution_count": null,
   "metadata": {
    "colab": {
     "base_uri": "https://localhost:8080/",
     "height": 142
    },
    "id": "Mdvi6wfEQuDl",
    "outputId": "301f8ca5-799b-4856-9229-3151d8d21dce"
   },
   "outputs": [],
   "source": [
    "test_tips.head(3)"
   ]
  },
  {
   "cell_type": "markdown",
   "metadata": {
    "id": "LvXEnh80QuDm"
   },
   "source": [
    "### 4- Report the baseline model for each HM"
   ]
  },
  {
   "cell_type": "code",
   "execution_count": 44,
   "metadata": {
    "colab": {
     "base_uri": "https://localhost:8080/"
    },
    "id": "VHJ5jJFzQuDm",
    "outputId": "b24c9e65-bf7a-4cb0-808e-7543a87aeb0b"
   },
   "outputs": [
    {
     "name": "stdout",
     "output_type": "stream",
     "text": [
      " The Mean Squared Error = 76.52728031558186\n",
      " The Mean Absolute Error = 6.874303747534518\n",
      " Root Mean Squared Error = 8.747987215101647\n"
     ]
    }
   ],
   "source": [
    "mse=mean_squared_error(train_tips[\"total_bill\"], train_tips[\"baseline\"])\n",
    "print (f\" The Mean Squared Error = {mse}\")\n",
    "\n",
    "mae=mean_absolute_error(train_tips[\"total_bill\"], train_tips[\"baseline\"])\n",
    "print (f\" The Mean Absolute Error = {mae}\")\n",
    "\n",
    "rms=mean_squared_error(train_tips[\"total_bill\"], train_tips[\"baseline\"], squared=False)\n",
    "print (f\" Root Mean Squared Error = {rms}\")"
   ]
  },
  {
   "cell_type": "markdown",
   "metadata": {
    "id": "aAjKuTDig_SL"
   },
   "source": [
    "------\n",
    "The Mean square error for our model is 104.04, while the Mean square error is 76.58 for the baseline model. Since lower Mean square error values indicate better model fit, the output suggests that the baseline fits much better than our model. "
   ]
  },
  {
   "cell_type": "markdown",
   "metadata": {
    "id": "kHq-Q51JQuDm"
   },
   "source": [
    "### 5- Compare your model with Linear Regression (Tips)"
   ]
  },
  {
   "cell_type": "markdown",
   "metadata": {
    "id": "Kv7Y0lgsQuDm"
   },
   "source": [
    "1- The Mean Squared Error "
   ]
  },
  {
   "cell_type": "markdown",
   "metadata": {
    "id": "kQYtFVlIQuDm"
   },
   "source": [
    "- The Mean Squared Error In Linear Regression (Tips) =  33.0419251152142\n",
    "- The Mean Squared Error In Heuristic Model = 109.53697136232554\n"
   ]
  },
  {
   "cell_type": "markdown",
   "metadata": {
    "id": "XTLfITRCQuDn"
   },
   "source": [
    "2- The Mean Absolute Error In Linear Regression (Tips) \n"
   ]
  },
  {
   "cell_type": "markdown",
   "metadata": {
    "id": "uojkPYtnQuDn"
   },
   "source": [
    "- The Mean Absolute Error In Linear Regression (Tips) = 4.456528739396021\n",
    "- The Mean Absolute Error In Heuristic Model = 8.176772167513791"
   ]
  },
  {
   "cell_type": "markdown",
   "metadata": {
    "id": "ouR5OAWdQuDn"
   },
   "source": [
    "\n",
    "3- Root Mean Squared Error"
   ]
  },
  {
   "cell_type": "markdown",
   "metadata": {
    "id": "1J14sCNOQuDn"
   },
   "source": [
    "- The Root Mean Squared Error In Linear Regression (Tips) = 5.748210601153563\n",
    "- The Root Mean Squared Error In Heuristic Model = 10.465991179163373\n",
    "\n"
   ]
  },
  {
   "cell_type": "markdown",
   "metadata": {},
   "source": [
    "- For the tips dataset the liner regression prefeormed better than our modle, for the MSE the diffrance is 76.5, for MAE the diffrance is 3.72 and for the RMSE the diffrance is 4.72. \n",
    "\n",
    "- The smallest diffrance was with the MAE and the highest diffrance was with the MSE.\n"
   ]
  },
  {
   "cell_type": "markdown",
   "metadata": {
    "id": "lapMA-xTlHcS"
   },
   "source": [
    "# Heuristic Model for Titanic Dataset"
   ]
  },
  {
   "cell_type": "markdown",
   "metadata": {
    "id": "fYpJ2jdYf-Et"
   },
   "source": [
    "#### Classification Cost Functions\n",
    "\n",
    "- Use `y_test_c` as your true labels\n",
    "- Use `y_pred_c` as your predicted labels"
   ]
  },
  {
   "cell_type": "code",
   "execution_count": 46,
   "metadata": {
    "colab": {
     "base_uri": "https://localhost:8080/"
    },
    "id": "BevsZaj-lRWL",
    "outputId": "f5a15d12-38df-4635-e07f-072362db5eed"
   },
   "outputs": [
    {
     "name": "stdout",
     "output_type": "stream",
     "text": [
      "Recall Score:  0.696969696969697\n",
      "Precision Score:  0.8214285714285714\n",
      "Accuracy Score:  0.6739130434782609\n"
     ]
    }
   ],
   "source": [
    "# LogisticRegressionRecall \n",
    "print(\"Recall Score: \",recall_score(y_test_c, y_pred_c))\n",
    "print(\"Precision Score: \",precision_score(y_test_c, y_pred_c))\n",
    "print(\"Accuracy Score: \",accuracy_score(y_test_c, y_pred_c))"
   ]
  },
  {
   "cell_type": "code",
   "execution_count": 47,
   "metadata": {
    "colab": {
     "base_uri": "https://localhost:8080/",
     "height": 203
    },
    "id": "6aakbv5FQuDo",
    "outputId": "90be4d79-35f7-4a1c-dd21-2b72ff43c963"
   },
   "outputs": [
    {
     "data": {
      "text/html": [
       "<div>\n",
       "<style scoped>\n",
       "    .dataframe tbody tr th:only-of-type {\n",
       "        vertical-align: middle;\n",
       "    }\n",
       "\n",
       "    .dataframe tbody tr th {\n",
       "        vertical-align: top;\n",
       "    }\n",
       "\n",
       "    .dataframe thead th {\n",
       "        text-align: right;\n",
       "    }\n",
       "</style>\n",
       "<table border=\"1\" class=\"dataframe\">\n",
       "  <thead>\n",
       "    <tr style=\"text-align: right;\">\n",
       "      <th></th>\n",
       "      <th>survived</th>\n",
       "      <th>pclass</th>\n",
       "      <th>sex</th>\n",
       "      <th>age</th>\n",
       "      <th>sibsp</th>\n",
       "      <th>parch</th>\n",
       "      <th>fare</th>\n",
       "      <th>embarked</th>\n",
       "      <th>class</th>\n",
       "      <th>who</th>\n",
       "      <th>adult_male</th>\n",
       "      <th>deck</th>\n",
       "      <th>embark_town</th>\n",
       "      <th>alive</th>\n",
       "      <th>alone</th>\n",
       "    </tr>\n",
       "  </thead>\n",
       "  <tbody>\n",
       "    <tr>\n",
       "      <th>1</th>\n",
       "      <td>1</td>\n",
       "      <td>1</td>\n",
       "      <td>female</td>\n",
       "      <td>38.0</td>\n",
       "      <td>1</td>\n",
       "      <td>0</td>\n",
       "      <td>71.2833</td>\n",
       "      <td>C</td>\n",
       "      <td>First</td>\n",
       "      <td>woman</td>\n",
       "      <td>False</td>\n",
       "      <td>C</td>\n",
       "      <td>Cherbourg</td>\n",
       "      <td>yes</td>\n",
       "      <td>False</td>\n",
       "    </tr>\n",
       "    <tr>\n",
       "      <th>3</th>\n",
       "      <td>1</td>\n",
       "      <td>1</td>\n",
       "      <td>female</td>\n",
       "      <td>35.0</td>\n",
       "      <td>1</td>\n",
       "      <td>0</td>\n",
       "      <td>53.1000</td>\n",
       "      <td>S</td>\n",
       "      <td>First</td>\n",
       "      <td>woman</td>\n",
       "      <td>False</td>\n",
       "      <td>C</td>\n",
       "      <td>Southampton</td>\n",
       "      <td>yes</td>\n",
       "      <td>False</td>\n",
       "    </tr>\n",
       "    <tr>\n",
       "      <th>6</th>\n",
       "      <td>0</td>\n",
       "      <td>1</td>\n",
       "      <td>male</td>\n",
       "      <td>54.0</td>\n",
       "      <td>0</td>\n",
       "      <td>0</td>\n",
       "      <td>51.8625</td>\n",
       "      <td>S</td>\n",
       "      <td>First</td>\n",
       "      <td>man</td>\n",
       "      <td>True</td>\n",
       "      <td>E</td>\n",
       "      <td>Southampton</td>\n",
       "      <td>no</td>\n",
       "      <td>True</td>\n",
       "    </tr>\n",
       "    <tr>\n",
       "      <th>10</th>\n",
       "      <td>1</td>\n",
       "      <td>3</td>\n",
       "      <td>female</td>\n",
       "      <td>4.0</td>\n",
       "      <td>1</td>\n",
       "      <td>1</td>\n",
       "      <td>16.7000</td>\n",
       "      <td>S</td>\n",
       "      <td>Third</td>\n",
       "      <td>child</td>\n",
       "      <td>False</td>\n",
       "      <td>G</td>\n",
       "      <td>Southampton</td>\n",
       "      <td>yes</td>\n",
       "      <td>False</td>\n",
       "    </tr>\n",
       "    <tr>\n",
       "      <th>11</th>\n",
       "      <td>1</td>\n",
       "      <td>1</td>\n",
       "      <td>female</td>\n",
       "      <td>58.0</td>\n",
       "      <td>0</td>\n",
       "      <td>0</td>\n",
       "      <td>26.5500</td>\n",
       "      <td>S</td>\n",
       "      <td>First</td>\n",
       "      <td>woman</td>\n",
       "      <td>False</td>\n",
       "      <td>C</td>\n",
       "      <td>Southampton</td>\n",
       "      <td>yes</td>\n",
       "      <td>True</td>\n",
       "    </tr>\n",
       "  </tbody>\n",
       "</table>\n",
       "</div>"
      ],
      "text/plain": [
       "    survived  pclass     sex   age  sibsp  parch     fare embarked  class  \\\n",
       "1          1       1  female  38.0      1      0  71.2833        C  First   \n",
       "3          1       1  female  35.0      1      0  53.1000        S  First   \n",
       "6          0       1    male  54.0      0      0  51.8625        S  First   \n",
       "10         1       3  female   4.0      1      1  16.7000        S  Third   \n",
       "11         1       1  female  58.0      0      0  26.5500        S  First   \n",
       "\n",
       "      who  adult_male deck  embark_town alive  alone  \n",
       "1   woman       False    C    Cherbourg   yes  False  \n",
       "3   woman       False    C  Southampton   yes  False  \n",
       "6     man        True    E  Southampton    no   True  \n",
       "10  child       False    G  Southampton   yes  False  \n",
       "11  woman       False    C  Southampton   yes   True  "
      ]
     },
     "execution_count": 47,
     "metadata": {},
     "output_type": "execute_result"
    }
   ],
   "source": [
    "df_c.head()"
   ]
  },
  {
   "cell_type": "markdown",
   "metadata": {
    "id": "0w18DYj7QuDo"
   },
   "source": [
    "### 1- Split your dataset to train and test."
   ]
  },
  {
   "cell_type": "code",
   "execution_count": 4,
   "metadata": {
    "id": "EiUhvDL9l9Ka"
   },
   "outputs": [],
   "source": [
    "\n",
    "train_titanic, test_titanic = train_test_split(\n",
    "    df_c, # data\n",
    "    train_size = 0.8, # size of the train data\n",
    "    test_size = 0.2, # size of test data\n",
    "    random_state = 42\n",
    "\n",
    ")"
   ]
  },
  {
   "cell_type": "markdown",
   "metadata": {
    "id": "Nemv1l5LQuDp"
   },
   "source": [
    "### 2- Use the training to build and tune \"adjust\" your heuristic model.\n",
    "\n",
    "## EDA"
   ]
  },
  {
   "cell_type": "code",
   "execution_count": 49,
   "metadata": {
    "colab": {
     "base_uri": "https://localhost:8080/",
     "height": 295
    },
    "id": "hV5zRJoJcONC",
    "outputId": "c94dd443-ede5-42ab-b853-fa0b6ca6a1f9"
   },
   "outputs": [
    {
     "data": {
      "text/html": [
       "<div>\n",
       "<style scoped>\n",
       "    .dataframe tbody tr th:only-of-type {\n",
       "        vertical-align: middle;\n",
       "    }\n",
       "\n",
       "    .dataframe tbody tr th {\n",
       "        vertical-align: top;\n",
       "    }\n",
       "\n",
       "    .dataframe thead th {\n",
       "        text-align: right;\n",
       "    }\n",
       "</style>\n",
       "<table border=\"1\" class=\"dataframe\">\n",
       "  <thead>\n",
       "    <tr style=\"text-align: right;\">\n",
       "      <th></th>\n",
       "      <th>survived</th>\n",
       "      <th>pclass</th>\n",
       "      <th>age</th>\n",
       "      <th>sibsp</th>\n",
       "      <th>parch</th>\n",
       "      <th>fare</th>\n",
       "    </tr>\n",
       "  </thead>\n",
       "  <tbody>\n",
       "    <tr>\n",
       "      <th>count</th>\n",
       "      <td>145.000000</td>\n",
       "      <td>145.000000</td>\n",
       "      <td>145.000000</td>\n",
       "      <td>145.000000</td>\n",
       "      <td>145.000000</td>\n",
       "      <td>145.000000</td>\n",
       "    </tr>\n",
       "    <tr>\n",
       "      <th>mean</th>\n",
       "      <td>0.682759</td>\n",
       "      <td>1.213793</td>\n",
       "      <td>35.444828</td>\n",
       "      <td>0.475862</td>\n",
       "      <td>0.468966</td>\n",
       "      <td>78.729943</td>\n",
       "    </tr>\n",
       "    <tr>\n",
       "      <th>std</th>\n",
       "      <td>0.467015</td>\n",
       "      <td>0.542451</td>\n",
       "      <td>15.101292</td>\n",
       "      <td>0.657043</td>\n",
       "      <td>0.764264</td>\n",
       "      <td>80.386214</td>\n",
       "    </tr>\n",
       "    <tr>\n",
       "      <th>min</th>\n",
       "      <td>0.000000</td>\n",
       "      <td>1.000000</td>\n",
       "      <td>2.000000</td>\n",
       "      <td>0.000000</td>\n",
       "      <td>0.000000</td>\n",
       "      <td>0.000000</td>\n",
       "    </tr>\n",
       "    <tr>\n",
       "      <th>25%</th>\n",
       "      <td>0.000000</td>\n",
       "      <td>1.000000</td>\n",
       "      <td>25.000000</td>\n",
       "      <td>0.000000</td>\n",
       "      <td>0.000000</td>\n",
       "      <td>29.700000</td>\n",
       "    </tr>\n",
       "    <tr>\n",
       "      <th>50%</th>\n",
       "      <td>1.000000</td>\n",
       "      <td>1.000000</td>\n",
       "      <td>35.000000</td>\n",
       "      <td>0.000000</td>\n",
       "      <td>0.000000</td>\n",
       "      <td>55.900000</td>\n",
       "    </tr>\n",
       "    <tr>\n",
       "      <th>75%</th>\n",
       "      <td>1.000000</td>\n",
       "      <td>1.000000</td>\n",
       "      <td>47.000000</td>\n",
       "      <td>1.000000</td>\n",
       "      <td>1.000000</td>\n",
       "      <td>90.000000</td>\n",
       "    </tr>\n",
       "    <tr>\n",
       "      <th>max</th>\n",
       "      <td>1.000000</td>\n",
       "      <td>3.000000</td>\n",
       "      <td>80.000000</td>\n",
       "      <td>3.000000</td>\n",
       "      <td>4.000000</td>\n",
       "      <td>512.329200</td>\n",
       "    </tr>\n",
       "  </tbody>\n",
       "</table>\n",
       "</div>"
      ],
      "text/plain": [
       "         survived      pclass         age       sibsp       parch        fare\n",
       "count  145.000000  145.000000  145.000000  145.000000  145.000000  145.000000\n",
       "mean     0.682759    1.213793   35.444828    0.475862    0.468966   78.729943\n",
       "std      0.467015    0.542451   15.101292    0.657043    0.764264   80.386214\n",
       "min      0.000000    1.000000    2.000000    0.000000    0.000000    0.000000\n",
       "25%      0.000000    1.000000   25.000000    0.000000    0.000000   29.700000\n",
       "50%      1.000000    1.000000   35.000000    0.000000    0.000000   55.900000\n",
       "75%      1.000000    1.000000   47.000000    1.000000    1.000000   90.000000\n",
       "max      1.000000    3.000000   80.000000    3.000000    4.000000  512.329200"
      ]
     },
     "execution_count": 49,
     "metadata": {},
     "output_type": "execute_result"
    }
   ],
   "source": [
    "train_titanic.describe()"
   ]
  },
  {
   "cell_type": "code",
   "execution_count": 50,
   "metadata": {
    "id": "qyLWJs-IQuDp",
    "outputId": "5c7b37c5-a386-4596-804b-8336d2bc7854"
   },
   "outputs": [
    {
     "data": {
      "text/plain": [
       "Text(0.5, 1.0, 'Ratio of Survived')"
      ]
     },
     "execution_count": 50,
     "metadata": {},
     "output_type": "execute_result"
    },
    {
     "data": {
      "image/png": "[encoded data removed]",
      "text/plain": [
       "<Figure size 432x288 with 1 Axes>"
      ]
     },
     "metadata": {},
     "output_type": "display_data"
    }
   ],
   "source": [
    "\n",
    "plt.pie(\n",
    "    x=train_titanic[\"survived\"].value_counts(),\n",
    "    explode=[0,0.05],\n",
    "    autopct='%1.1f%%',\n",
    "    #colors = train_titanic[\"sex\"].value_counts()\n",
    "    \n",
    ")\n",
    "\n",
    "plt.title(\"Ratio of Survived\",weight = \"bold\")"
   ]
  },
  {
   "cell_type": "code",
   "execution_count": null,
   "metadata": {},
   "outputs": [],
   "source": []
  },
  {
   "cell_type": "code",
   "execution_count": 5,
   "metadata": {
    "colab": {
     "base_uri": "https://localhost:8080/",
     "height": 873
    },
    "id": "vGHI7TzuQuDp",
    "outputId": "eebe8b98-86cb-440a-b876-ebc83489b552"
   },
   "outputs": [
    {
     "data": {
      "image/png": "[encoded data removed]",
      "text/plain": [
       "<Figure size 1080x864 with 4 Axes>"
      ]
     },
     "metadata": {
      "needs_background": "light"
     },
     "output_type": "display_data"
    }
   ],
   "source": [
    "plt.figure(figsize=(15,12))\n",
    "plt.suptitle('Figure to Show Survived With Age, Gender and Pcalss')\n",
    "\n",
    "\n",
    "\n",
    "#plot 1:\n",
    "plt.subplot(2, 2, 1) # 2x2 plot with plot position 1 (upper left)\n",
    "sns.histplot(data=train_titanic,\n",
    "             x=\"age\",\n",
    "             hue=\"survived\",\n",
    "             multiple=\"stack\",\n",
    "             #palette=\"Blues\",\n",
    "             shrink=.6\n",
    "            )\n",
    "\n",
    "\n",
    "\n",
    "#plot 2:\n",
    "\n",
    "plt.subplot(2, 2, 2) # 2x2 plot with plot position 2 (upper right)\n",
    "sns.boxplot(x=\"sex\",\n",
    "            y=\"age\",\n",
    "            hue=\"survived\",\n",
    "            linewidth=2.5,\n",
    "            #palette=\"Blues\",\n",
    "            data=train_titanic)\n",
    "\n",
    "\n",
    "#plot 3:\n",
    "\n",
    "plt.subplot(2,2,3)\n",
    "sns.barplot(x=\"pclass\",\n",
    "            y=\"age\",\n",
    "            hue=\"survived\",\n",
    "            #palette=\"Blues\",\n",
    "            #alpha = 0.3,\n",
    "            data=train_titanic\n",
    "           )\n",
    "\n",
    "\n",
    "#plot 4:\n",
    "\n",
    "plt.subplot(2,2,4)\n",
    "sns.barplot(x=\"embarked\",\n",
    "             y=\"age\",\n",
    "            hue=\"survived\",\n",
    "            \n",
    "            #palette=\"Blues\",\n",
    "            data=train_titanic\n",
    "           )\n",
    "\n",
    "\n",
    "\n",
    "\n",
    "plt.tight_layout() # To increase space between plots to prevent label overlap\n",
    "#plt.savefig('Medical_plots.png') # Save figure\n",
    "plt.show()"
   ]
  },
  {
   "cell_type": "code",
   "execution_count": 55,
   "metadata": {
    "colab": {
     "base_uri": "https://localhost:8080/",
     "height": 338
    },
    "id": "TwuX-PLfQuDq",
    "outputId": "3d08025c-49ea-459d-8e64-1e8468a2ac42"
   },
   "outputs": [
    {
     "name": "stdout",
     "output_type": "stream",
     "text": [
      "Regression Mean Baseline: 0    1\n",
      "dtype: int64\n"
     ]
    },
    {
     "data": {
      "text/html": [
       "<div>\n",
       "<style scoped>\n",
       "    .dataframe tbody tr th:only-of-type {\n",
       "        vertical-align: middle;\n",
       "    }\n",
       "\n",
       "    .dataframe tbody tr th {\n",
       "        vertical-align: top;\n",
       "    }\n",
       "\n",
       "    .dataframe thead th {\n",
       "        text-align: right;\n",
       "    }\n",
       "</style>\n",
       "<table border=\"1\" class=\"dataframe\">\n",
       "  <thead>\n",
       "    <tr style=\"text-align: right;\">\n",
       "      <th></th>\n",
       "      <th>survived</th>\n",
       "      <th>pclass</th>\n",
       "      <th>sex</th>\n",
       "      <th>age</th>\n",
       "      <th>sibsp</th>\n",
       "      <th>parch</th>\n",
       "      <th>fare</th>\n",
       "      <th>embarked</th>\n",
       "      <th>class</th>\n",
       "      <th>who</th>\n",
       "      <th>adult_male</th>\n",
       "      <th>deck</th>\n",
       "      <th>embark_town</th>\n",
       "      <th>alive</th>\n",
       "      <th>alone</th>\n",
       "      <th>baseline</th>\n",
       "    </tr>\n",
       "  </thead>\n",
       "  <tbody>\n",
       "    <tr>\n",
       "      <th>331</th>\n",
       "      <td>0</td>\n",
       "      <td>1</td>\n",
       "      <td>male</td>\n",
       "      <td>45.5</td>\n",
       "      <td>0</td>\n",
       "      <td>0</td>\n",
       "      <td>28.5000</td>\n",
       "      <td>S</td>\n",
       "      <td>First</td>\n",
       "      <td>man</td>\n",
       "      <td>True</td>\n",
       "      <td>C</td>\n",
       "      <td>Southampton</td>\n",
       "      <td>no</td>\n",
       "      <td>True</td>\n",
       "      <td>1</td>\n",
       "    </tr>\n",
       "    <tr>\n",
       "      <th>336</th>\n",
       "      <td>0</td>\n",
       "      <td>1</td>\n",
       "      <td>male</td>\n",
       "      <td>29.0</td>\n",
       "      <td>1</td>\n",
       "      <td>0</td>\n",
       "      <td>66.6000</td>\n",
       "      <td>S</td>\n",
       "      <td>First</td>\n",
       "      <td>man</td>\n",
       "      <td>True</td>\n",
       "      <td>C</td>\n",
       "      <td>Southampton</td>\n",
       "      <td>no</td>\n",
       "      <td>False</td>\n",
       "      <td>1</td>\n",
       "    </tr>\n",
       "    <tr>\n",
       "      <th>193</th>\n",
       "      <td>1</td>\n",
       "      <td>2</td>\n",
       "      <td>male</td>\n",
       "      <td>3.0</td>\n",
       "      <td>1</td>\n",
       "      <td>1</td>\n",
       "      <td>26.0000</td>\n",
       "      <td>S</td>\n",
       "      <td>Second</td>\n",
       "      <td>child</td>\n",
       "      <td>False</td>\n",
       "      <td>F</td>\n",
       "      <td>Southampton</td>\n",
       "      <td>yes</td>\n",
       "      <td>False</td>\n",
       "      <td>1</td>\n",
       "    </tr>\n",
       "    <tr>\n",
       "      <th>75</th>\n",
       "      <td>0</td>\n",
       "      <td>3</td>\n",
       "      <td>male</td>\n",
       "      <td>25.0</td>\n",
       "      <td>0</td>\n",
       "      <td>0</td>\n",
       "      <td>7.6500</td>\n",
       "      <td>S</td>\n",
       "      <td>Third</td>\n",
       "      <td>man</td>\n",
       "      <td>True</td>\n",
       "      <td>F</td>\n",
       "      <td>Southampton</td>\n",
       "      <td>no</td>\n",
       "      <td>True</td>\n",
       "      <td>1</td>\n",
       "    </tr>\n",
       "    <tr>\n",
       "      <th>248</th>\n",
       "      <td>1</td>\n",
       "      <td>1</td>\n",
       "      <td>male</td>\n",
       "      <td>37.0</td>\n",
       "      <td>1</td>\n",
       "      <td>1</td>\n",
       "      <td>52.5542</td>\n",
       "      <td>S</td>\n",
       "      <td>First</td>\n",
       "      <td>man</td>\n",
       "      <td>True</td>\n",
       "      <td>D</td>\n",
       "      <td>Southampton</td>\n",
       "      <td>yes</td>\n",
       "      <td>False</td>\n",
       "      <td>1</td>\n",
       "    </tr>\n",
       "  </tbody>\n",
       "</table>\n",
       "</div>"
      ],
      "text/plain": [
       "     survived  pclass   sex   age  sibsp  parch     fare embarked   class  \\\n",
       "331         0       1  male  45.5      0      0  28.5000        S   First   \n",
       "336         0       1  male  29.0      1      0  66.6000        S   First   \n",
       "193         1       2  male   3.0      1      1  26.0000        S  Second   \n",
       "75          0       3  male  25.0      0      0   7.6500        S   Third   \n",
       "248         1       1  male  37.0      1      1  52.5542        S   First   \n",
       "\n",
       "       who  adult_male deck  embark_town alive  alone  baseline  \n",
       "331    man        True    C  Southampton    no   True         1  \n",
       "336    man        True    C  Southampton    no  False         1  \n",
       "193  child       False    F  Southampton   yes  False         1  \n",
       "75     man        True    F  Southampton    no   True         1  \n",
       "248    man        True    D  Southampton   yes  False         1  "
      ]
     },
     "execution_count": 55,
     "metadata": {},
     "output_type": "execute_result"
    }
   ],
   "source": [
    "# Report your baseline model here (Majority Class)\n",
    "\n",
    "\n",
    "print(f\"Regression Mean Baseline: {train_titanic['survived'].mode()}\") # Output = 1\n",
    "\n",
    "\n",
    "# Predict mean baseline\n",
    "train_titanic[\"baseline\"] = train_titanic['survived'].mode().values[0]\n",
    "\n",
    "\n",
    "\n",
    "train_titanic.head()\n",
    "\n"
   ]
  },
  {
   "cell_type": "markdown",
   "metadata": {
    "id": "KpNYlxGoQuDq"
   },
   "source": [
    "###  Heuristic model"
   ]
  },
  {
   "cell_type": "code",
   "execution_count": 7,
   "metadata": {
    "id": "Fyt3IreyQuDq"
   },
   "outputs": [],
   "source": [
    "def heuristic(data):\n",
    "\n",
    "    preds = []\n",
    "    \n",
    "    for x in range(len(data)):\n",
    "\n",
    "\n",
    "        if (data.iloc[x][\"sex\"] == \"female\"):\n",
    "        \n",
    "            if( (data.iloc[x][\"pclass\"] == 3) & (data.iloc[x][\"age\"] > 5) & (data.iloc[x][\"age\"] < 35)):\n",
    "                preds.append(0)\n",
    "            else:\n",
    "                preds.append(1)\n",
    "                \n",
    "                \n",
    "        elif  (data.iloc[x][\"sex\"] == \"male\"):\n",
    "            if((data.iloc[x][\"age\"] < 10) & (data.iloc[x][\"pclass\"] == 2)) | ((data.iloc[x][\"age\"] < 40) & (data.iloc[x][\"pclass\"] == 1)):\n",
    "                preds.append(1)         \n",
    "            else:\n",
    "                preds.append(0)     \n",
    "                \n",
    "        else:\n",
    "                preds.append(0)\n",
    "    return preds"
   ]
  },
  {
   "cell_type": "code",
   "execution_count": 57,
   "metadata": {
    "colab": {
     "base_uri": "https://localhost:8080/"
    },
    "id": "2iXJTg4GQuDr",
    "outputId": "da79d472-d45e-4cbb-e7f5-c9572aa75eb9"
   },
   "outputs": [],
   "source": [
    "train_titanic[\"preds\"] = heuristic(train_titanic)"
   ]
  },
  {
   "cell_type": "code",
   "execution_count": 58,
   "metadata": {
    "colab": {
     "base_uri": "https://localhost:8080/",
     "height": 203
    },
    "id": "mJGd8qqwQuDr",
    "outputId": "2ff1e829-9bbc-420f-99c7-55caeb7e386f"
   },
   "outputs": [
    {
     "data": {
      "text/html": [
       "<div>\n",
       "<style scoped>\n",
       "    .dataframe tbody tr th:only-of-type {\n",
       "        vertical-align: middle;\n",
       "    }\n",
       "\n",
       "    .dataframe tbody tr th {\n",
       "        vertical-align: top;\n",
       "    }\n",
       "\n",
       "    .dataframe thead th {\n",
       "        text-align: right;\n",
       "    }\n",
       "</style>\n",
       "<table border=\"1\" class=\"dataframe\">\n",
       "  <thead>\n",
       "    <tr style=\"text-align: right;\">\n",
       "      <th></th>\n",
       "      <th>survived</th>\n",
       "      <th>pclass</th>\n",
       "      <th>sex</th>\n",
       "      <th>age</th>\n",
       "      <th>sibsp</th>\n",
       "      <th>parch</th>\n",
       "      <th>fare</th>\n",
       "      <th>embarked</th>\n",
       "      <th>class</th>\n",
       "      <th>who</th>\n",
       "      <th>adult_male</th>\n",
       "      <th>deck</th>\n",
       "      <th>embark_town</th>\n",
       "      <th>alive</th>\n",
       "      <th>alone</th>\n",
       "      <th>baseline</th>\n",
       "      <th>preds</th>\n",
       "    </tr>\n",
       "  </thead>\n",
       "  <tbody>\n",
       "    <tr>\n",
       "      <th>331</th>\n",
       "      <td>0</td>\n",
       "      <td>1</td>\n",
       "      <td>male</td>\n",
       "      <td>45.5</td>\n",
       "      <td>0</td>\n",
       "      <td>0</td>\n",
       "      <td>28.5000</td>\n",
       "      <td>S</td>\n",
       "      <td>First</td>\n",
       "      <td>man</td>\n",
       "      <td>True</td>\n",
       "      <td>C</td>\n",
       "      <td>Southampton</td>\n",
       "      <td>no</td>\n",
       "      <td>True</td>\n",
       "      <td>1</td>\n",
       "      <td>0</td>\n",
       "    </tr>\n",
       "    <tr>\n",
       "      <th>336</th>\n",
       "      <td>0</td>\n",
       "      <td>1</td>\n",
       "      <td>male</td>\n",
       "      <td>29.0</td>\n",
       "      <td>1</td>\n",
       "      <td>0</td>\n",
       "      <td>66.6000</td>\n",
       "      <td>S</td>\n",
       "      <td>First</td>\n",
       "      <td>man</td>\n",
       "      <td>True</td>\n",
       "      <td>C</td>\n",
       "      <td>Southampton</td>\n",
       "      <td>no</td>\n",
       "      <td>False</td>\n",
       "      <td>1</td>\n",
       "      <td>1</td>\n",
       "    </tr>\n",
       "    <tr>\n",
       "      <th>193</th>\n",
       "      <td>1</td>\n",
       "      <td>2</td>\n",
       "      <td>male</td>\n",
       "      <td>3.0</td>\n",
       "      <td>1</td>\n",
       "      <td>1</td>\n",
       "      <td>26.0000</td>\n",
       "      <td>S</td>\n",
       "      <td>Second</td>\n",
       "      <td>child</td>\n",
       "      <td>False</td>\n",
       "      <td>F</td>\n",
       "      <td>Southampton</td>\n",
       "      <td>yes</td>\n",
       "      <td>False</td>\n",
       "      <td>1</td>\n",
       "      <td>1</td>\n",
       "    </tr>\n",
       "    <tr>\n",
       "      <th>75</th>\n",
       "      <td>0</td>\n",
       "      <td>3</td>\n",
       "      <td>male</td>\n",
       "      <td>25.0</td>\n",
       "      <td>0</td>\n",
       "      <td>0</td>\n",
       "      <td>7.6500</td>\n",
       "      <td>S</td>\n",
       "      <td>Third</td>\n",
       "      <td>man</td>\n",
       "      <td>True</td>\n",
       "      <td>F</td>\n",
       "      <td>Southampton</td>\n",
       "      <td>no</td>\n",
       "      <td>True</td>\n",
       "      <td>1</td>\n",
       "      <td>0</td>\n",
       "    </tr>\n",
       "    <tr>\n",
       "      <th>248</th>\n",
       "      <td>1</td>\n",
       "      <td>1</td>\n",
       "      <td>male</td>\n",
       "      <td>37.0</td>\n",
       "      <td>1</td>\n",
       "      <td>1</td>\n",
       "      <td>52.5542</td>\n",
       "      <td>S</td>\n",
       "      <td>First</td>\n",
       "      <td>man</td>\n",
       "      <td>True</td>\n",
       "      <td>D</td>\n",
       "      <td>Southampton</td>\n",
       "      <td>yes</td>\n",
       "      <td>False</td>\n",
       "      <td>1</td>\n",
       "      <td>1</td>\n",
       "    </tr>\n",
       "  </tbody>\n",
       "</table>\n",
       "</div>"
      ],
      "text/plain": [
       "     survived  pclass   sex   age  sibsp  parch     fare embarked   class  \\\n",
       "331         0       1  male  45.5      0      0  28.5000        S   First   \n",
       "336         0       1  male  29.0      1      0  66.6000        S   First   \n",
       "193         1       2  male   3.0      1      1  26.0000        S  Second   \n",
       "75          0       3  male  25.0      0      0   7.6500        S   Third   \n",
       "248         1       1  male  37.0      1      1  52.5542        S   First   \n",
       "\n",
       "       who  adult_male deck  embark_town alive  alone  baseline  preds  \n",
       "331    man        True    C  Southampton    no   True         1      0  \n",
       "336    man        True    C  Southampton    no  False         1      1  \n",
       "193  child       False    F  Southampton   yes  False         1      1  \n",
       "75     man        True    F  Southampton    no   True         1      0  \n",
       "248    man        True    D  Southampton   yes  False         1      1  "
      ]
     },
     "execution_count": 58,
     "metadata": {},
     "output_type": "execute_result"
    }
   ],
   "source": [
    "train_titanic.head()"
   ]
  },
  {
   "cell_type": "code",
   "execution_count": 59,
   "metadata": {
    "colab": {
     "base_uri": "https://localhost:8080/"
    },
    "id": "zd2iMnKAmBcP",
    "outputId": "073f5af5-ad73-4bc3-dca2-458fd5ba3c05"
   },
   "outputs": [
    {
     "name": "stdout",
     "output_type": "stream",
     "text": [
      "Recall Score:  0.8585858585858586\n",
      "Precision Score:  0.8095238095238095\n",
      "Accuracy Score:  0.7655172413793103\n"
     ]
    }
   ],
   "source": [
    "# Add your cost functions for your Heuristic Model here\n",
    "\n",
    "print(\"Recall Score: \",recall_score(train_titanic[\"survived\"], train_titanic[\"preds\"]))\n",
    "print(\"Precision Score: \",precision_score(train_titanic[\"survived\"], train_titanic[\"preds\"]))\n",
    "print(\"Accuracy Score: \",accuracy_score(train_titanic[\"survived\"], train_titanic[\"preds\"]))"
   ]
  },
  {
   "cell_type": "markdown",
   "metadata": {},
   "source": [
    "### 3- Test your HM using the test split from your dataset."
   ]
  },
  {
   "cell_type": "code",
   "execution_count": 8,
   "metadata": {
    "collapsed": true,
    "id": "uFoff5ZfQuDs",
    "jupyter": {
     "outputs_hidden": true
    }
   },
   "outputs": [
    {
     "name": "stderr",
     "output_type": "stream",
     "text": [
      "<ipython-input-8-24daeb6e6af6>:3: SettingWithCopyWarning: \n",
      "A value is trying to be set on a copy of a slice from a DataFrame.\n",
      "Try using .loc[row_indexer,col_indexer] = value instead\n",
      "\n",
      "See the caveats in the documentation: https://pandas.pydata.org/pandas-docs/stable/user_guide/indexing.html#returning-a-view-versus-a-copy\n",
      "  test_titanic[\"preds\"] = heuristic(test_titanic)\n"
     ]
    }
   ],
   "source": [
    "# make predictions\n",
    "\n",
    "test_titanic[\"preds\"] = heuristic(test_titanic)"
   ]
  },
  {
   "cell_type": "code",
   "execution_count": 61,
   "metadata": {
    "id": "KgSn8YYQQuDs",
    "outputId": "2ecee801-9154-43c4-cfd2-df1d531a4f8c"
   },
   "outputs": [
    {
     "data": {
      "text/html": [
       "<div>\n",
       "<style scoped>\n",
       "    .dataframe tbody tr th:only-of-type {\n",
       "        vertical-align: middle;\n",
       "    }\n",
       "\n",
       "    .dataframe tbody tr th {\n",
       "        vertical-align: top;\n",
       "    }\n",
       "\n",
       "    .dataframe thead th {\n",
       "        text-align: right;\n",
       "    }\n",
       "</style>\n",
       "<table border=\"1\" class=\"dataframe\">\n",
       "  <thead>\n",
       "    <tr style=\"text-align: right;\">\n",
       "      <th></th>\n",
       "      <th>survived</th>\n",
       "      <th>pclass</th>\n",
       "      <th>sex</th>\n",
       "      <th>age</th>\n",
       "      <th>sibsp</th>\n",
       "      <th>parch</th>\n",
       "      <th>fare</th>\n",
       "      <th>embarked</th>\n",
       "      <th>class</th>\n",
       "      <th>who</th>\n",
       "      <th>adult_male</th>\n",
       "      <th>deck</th>\n",
       "      <th>embark_town</th>\n",
       "      <th>alive</th>\n",
       "      <th>alone</th>\n",
       "      <th>preds</th>\n",
       "    </tr>\n",
       "  </thead>\n",
       "  <tbody>\n",
       "    <tr>\n",
       "      <th>118</th>\n",
       "      <td>0</td>\n",
       "      <td>1</td>\n",
       "      <td>male</td>\n",
       "      <td>24.0</td>\n",
       "      <td>0</td>\n",
       "      <td>1</td>\n",
       "      <td>247.5208</td>\n",
       "      <td>C</td>\n",
       "      <td>First</td>\n",
       "      <td>man</td>\n",
       "      <td>True</td>\n",
       "      <td>B</td>\n",
       "      <td>Cherbourg</td>\n",
       "      <td>no</td>\n",
       "      <td>False</td>\n",
       "      <td>1</td>\n",
       "    </tr>\n",
       "    <tr>\n",
       "      <th>251</th>\n",
       "      <td>0</td>\n",
       "      <td>3</td>\n",
       "      <td>female</td>\n",
       "      <td>29.0</td>\n",
       "      <td>1</td>\n",
       "      <td>1</td>\n",
       "      <td>10.4625</td>\n",
       "      <td>S</td>\n",
       "      <td>Third</td>\n",
       "      <td>woman</td>\n",
       "      <td>False</td>\n",
       "      <td>G</td>\n",
       "      <td>Southampton</td>\n",
       "      <td>no</td>\n",
       "      <td>False</td>\n",
       "      <td>0</td>\n",
       "    </tr>\n",
       "    <tr>\n",
       "      <th>742</th>\n",
       "      <td>1</td>\n",
       "      <td>1</td>\n",
       "      <td>female</td>\n",
       "      <td>21.0</td>\n",
       "      <td>2</td>\n",
       "      <td>2</td>\n",
       "      <td>262.3750</td>\n",
       "      <td>C</td>\n",
       "      <td>First</td>\n",
       "      <td>woman</td>\n",
       "      <td>False</td>\n",
       "      <td>B</td>\n",
       "      <td>Cherbourg</td>\n",
       "      <td>yes</td>\n",
       "      <td>False</td>\n",
       "      <td>1</td>\n",
       "    </tr>\n",
       "    <tr>\n",
       "      <th>496</th>\n",
       "      <td>1</td>\n",
       "      <td>1</td>\n",
       "      <td>female</td>\n",
       "      <td>54.0</td>\n",
       "      <td>1</td>\n",
       "      <td>0</td>\n",
       "      <td>78.2667</td>\n",
       "      <td>C</td>\n",
       "      <td>First</td>\n",
       "      <td>woman</td>\n",
       "      <td>False</td>\n",
       "      <td>D</td>\n",
       "      <td>Cherbourg</td>\n",
       "      <td>yes</td>\n",
       "      <td>False</td>\n",
       "      <td>1</td>\n",
       "    </tr>\n",
       "    <tr>\n",
       "      <th>712</th>\n",
       "      <td>1</td>\n",
       "      <td>1</td>\n",
       "      <td>male</td>\n",
       "      <td>48.0</td>\n",
       "      <td>1</td>\n",
       "      <td>0</td>\n",
       "      <td>52.0000</td>\n",
       "      <td>S</td>\n",
       "      <td>First</td>\n",
       "      <td>man</td>\n",
       "      <td>True</td>\n",
       "      <td>C</td>\n",
       "      <td>Southampton</td>\n",
       "      <td>yes</td>\n",
       "      <td>False</td>\n",
       "      <td>0</td>\n",
       "    </tr>\n",
       "  </tbody>\n",
       "</table>\n",
       "</div>"
      ],
      "text/plain": [
       "     survived  pclass     sex   age  sibsp  parch      fare embarked  class  \\\n",
       "118         0       1    male  24.0      0      1  247.5208        C  First   \n",
       "251         0       3  female  29.0      1      1   10.4625        S  Third   \n",
       "742         1       1  female  21.0      2      2  262.3750        C  First   \n",
       "496         1       1  female  54.0      1      0   78.2667        C  First   \n",
       "712         1       1    male  48.0      1      0   52.0000        S  First   \n",
       "\n",
       "       who  adult_male deck  embark_town alive  alone  preds  \n",
       "118    man        True    B    Cherbourg    no  False      1  \n",
       "251  woman       False    G  Southampton    no  False      0  \n",
       "742  woman       False    B    Cherbourg   yes  False      1  \n",
       "496  woman       False    D    Cherbourg   yes  False      1  \n",
       "712    man        True    C  Southampton   yes  False      0  "
      ]
     },
     "execution_count": 61,
     "metadata": {},
     "output_type": "execute_result"
    }
   ],
   "source": [
    "test_titanic.head()"
   ]
  },
  {
   "cell_type": "code",
   "execution_count": 12,
   "metadata": {},
   "outputs": [
    {
     "name": "stdout",
     "output_type": "stream",
     "text": [
      "Accuracy Score:  0.7837837837837838\n"
     ]
    }
   ],
   "source": [
    "print(\"Accuracy Score: \",accuracy_score(test_titanic[\"survived\"], test_titanic[\"preds\"]))"
   ]
  },
  {
   "cell_type": "markdown",
   "metadata": {
    "id": "-dsYI71EQuDs"
   },
   "source": [
    "### 4- Report the baseline model for each HR.\n",
    "\n"
   ]
  },
  {
   "cell_type": "code",
   "execution_count": 62,
   "metadata": {
    "colab": {
     "base_uri": "https://localhost:8080/"
    },
    "id": "IL_SFw9jQuDs",
    "outputId": "b52df4d7-4a61-49eb-98bd-5b7f98e6df48"
   },
   "outputs": [
    {
     "name": "stdout",
     "output_type": "stream",
     "text": [
      "Recall Score:  1.0\n",
      "Precision Score:  0.6827586206896552\n",
      "Accuracy Score:  0.6827586206896552\n"
     ]
    }
   ],
   "source": [
    "# Add your cost functions for your Heuristic Model here\n",
    "\n",
    "print(\"Recall Score: \",recall_score(train_titanic[\"survived\"], train_titanic[\"baseline\"]))\n",
    "print(\"Precision Score: \",precision_score(train_titanic[\"survived\"], train_titanic[\"baseline\"]))\n",
    "print(\"Accuracy Score: \",accuracy_score(train_titanic[\"survived\"], train_titanic[\"baseline\"]))"
   ]
  },
  {
   "cell_type": "markdown",
   "metadata": {
    "id": "6qQv-xJonQaU"
   },
   "source": [
    "-----\n",
    "The Accuracy for our model is 76.55 %, while the Accuracy score is 68.28 % for the baseline model. Since the higher Accuracy values indicate better model fit, the output suggests that our model fits much better than the baseline model."
   ]
  },
  {
   "cell_type": "markdown",
   "metadata": {
    "id": "MibrVcenQuDt"
   },
   "source": [
    "### 5- Compare your model with the Logistic Regression (Titanic) "
   ]
  },
  {
   "cell_type": "markdown",
   "metadata": {
    "id": "npwzszx3QuDt"
   },
   "source": [
    "1- Recall Score"
   ]
  },
  {
   "cell_type": "markdown",
   "metadata": {
    "id": "_SZqlriCQuDt"
   },
   "source": [
    "- Recall Score In Logistic Regression = 0.696969696969697\n",
    "- Recall Score In Heuristic model = 0.8585858585858586\n"
   ]
  },
  {
   "cell_type": "markdown",
   "metadata": {
    "id": "35KLVrwnQuDu"
   },
   "source": [
    "2- Precision Score"
   ]
  },
  {
   "cell_type": "markdown",
   "metadata": {
    "id": "zN0OPoheQuDu"
   },
   "source": [
    "- Precision Score In Logistic Regression =  0.8214285714285714\n",
    "- Precision Score In Heuristic model = 0.8095238095238095\n",
    "\n"
   ]
  },
  {
   "cell_type": "markdown",
   "metadata": {
    "id": "BYJ7pgvFQuDu"
   },
   "source": [
    "3- Accuracy Score"
   ]
  },
  {
   "cell_type": "markdown",
   "metadata": {
    "id": "nFTouj-SQuDu"
   },
   "source": [
    "- Accuracy Score In Logistic Regression = 0.6739130434782609\n",
    "- Accuracy ScoreIn Heuristic model = 0.7655172413793103\n"
   ]
  },
  {
   "cell_type": "markdown",
   "metadata": {},
   "source": [
    "- Over all our model preformed sligtly better than logistic regression with the recall the diffrance is 0.16, with accuracy the diffrance is 0.09 and for precision the diffrance is -0.02.\n",
    "\n",
    "- Even tho the diffrance is not major our model preformed slightly better."
   ]
  },
  {
   "cell_type": "code",
   "execution_count": null,
   "metadata": {},
   "outputs": [],
   "source": []
  }
 ],
 "metadata": {
  "colab": {
   "collapsed_sections": [],
   "name": "Weekend_Project_10.ipynb",
   "provenance": []
  },
  "kernelspec": {
   "display_name": "Python 3",
   "language": "python",
   "name": "python3"
  },
  "language_info": {
   "codemirror_mode": {
    "name": "ipython",
    "version": 3
   },
   "file_extension": ".py",
   "mimetype": "text/x-python",
   "name": "python",
   "nbconvert_exporter": "python",
   "pygments_lexer": "ipython3",
   "version": "3.8.5"
  }
 },
 "nbformat": 4,
 "nbformat_minor": 4
}
